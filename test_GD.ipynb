{
 "cells": [
  {
   "cell_type": "code",
   "execution_count": 1,
   "metadata": {},
   "outputs": [
    {
     "name": "stdout",
     "output_type": "stream",
     "text": [
      "Optimized Parameters: [3.0000004717990665]\n",
      "Final Cost: 2.225943591328502e-13\n",
      "History: [(69, [3.0000011518531897], 1.3267657706637855e-12), (70, [3.0000009214825516], 8.491300928974465e-13), (71, [3.000000737186041], 5.434432591924646e-13), (72, [3.000000589748833], 3.4780368588317735e-13), (73, [3.0000004717990665], 2.225943591328502e-13)]\n"
     ]
    }
   ],
   "source": [
    "from gradient_descent import gradient_descent\n",
    "\n",
    "def cost_function(x):\n",
    "    return (x[0] - 3) ** 2\n",
    "\n",
    "gd = gradient_descent(learn_rate=0.1, max_iter=100, tolerance=1e-6)\n",
    "\n",
    "initial_params = [10]\n",
    "\n",
    "optimized_params = gd.fit(cost_function, initial_params)\n",
    "\n",
    "print(\"Optimized Parameters:\", optimized_params)\n",
    "print(\"Final Cost:\", cost_function(optimized_params))\n",
    "print(\"History:\", gd.history[-5:])"
   ]
  }
 ],
 "metadata": {
  "kernelspec": {
   "display_name": "aki",
   "language": "python",
   "name": "python3"
  },
  "language_info": {
   "codemirror_mode": {
    "name": "ipython",
    "version": 3
   },
   "file_extension": ".py",
   "mimetype": "text/x-python",
   "name": "python",
   "nbconvert_exporter": "python",
   "pygments_lexer": "ipython3",
   "version": "3.11.8"
  }
 },
 "nbformat": 4,
 "nbformat_minor": 2
}
